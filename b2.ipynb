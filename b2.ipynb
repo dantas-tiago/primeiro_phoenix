{
 "cells": [
  {
   "cell_type": "code",
   "execution_count": 3,
   "id": "533c23f6",
   "metadata": {},
   "outputs": [
    {
     "data": {
      "text/plain": [
       "2.1"
      ]
     },
     "execution_count": 3,
     "metadata": {},
     "output_type": "execute_result"
    }
   ],
   "source": [
    "2.1"
   ]
  }
 ],
 "metadata": {
  "language_info": {
   "name": "python"
  }
 },
 "nbformat": 4,
 "nbformat_minor": 5
}
