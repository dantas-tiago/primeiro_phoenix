{
 "cells": [
  {
   "cell_type": "code",
   "execution_count": null,
   "id": "b30d8589",
   "metadata": {},
   "outputs": [],
   "source": [
    "print(\"comando remote set-url origin repo_phoenix\")"
   ]
  }
 ],
 "metadata": {
  "language_info": {
   "name": "python"
  }
 },
 "nbformat": 4,
 "nbformat_minor": 5
}
