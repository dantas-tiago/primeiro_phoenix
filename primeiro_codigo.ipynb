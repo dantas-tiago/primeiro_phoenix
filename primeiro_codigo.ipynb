{
 "cells": [
  {
   "cell_type": "code",
   "execution_count": 1,
   "id": "8ebb7207",
   "metadata": {},
   "outputs": [
    {
     "name": "stdout",
     "output_type": "stream",
     "text": [
      "primerio commit\n"
     ]
    }
   ],
   "source": [
    "print(\"primerio commit\")"
   ]
  },
  {
   "cell_type": "code",
   "execution_count": 1,
   "id": "b9633542",
   "metadata": {},
   "outputs": [
    {
     "name": "stdout",
     "output_type": "stream",
     "text": [
      "{'Nome': 'Ana', 'Idade': 23, 'Cidade': 'SP'}\n",
      "{'Nome': 'Bruno', 'Idade': 31, 'Cidade': 'RJ'}\n",
      "{'Nome': 'Carlos', 'Idade': 27, 'Cidade': 'MG'}\n",
      "{'Nome': 'Daniela', 'Idade': 19, 'Cidade': 'SP'}\n",
      "{'Nome': 'Eduardo', 'Idade': 35, 'Cidade': 'BA'}\n",
      "{'Nome': 'Fernanda', 'Idade': 29, 'Cidade': 'PR'}\n",
      "{'Nome': 'Gabriel', 'Idade': 40, 'Cidade': 'RS'}\n",
      "{'Nome': 'Helena', 'Idade': 22, 'Cidade': 'PE'}\n",
      "{'Nome': 'Igor', 'Idade': 24, 'Cidade': 'CE'}\n",
      "{'Nome': 'Julia', 'Idade': 28, 'Cidade': 'DF'}\n"
     ]
    }
   ],
   "source": [
    "# Exemplo de DataFrame com 10 registros usando apenas listas e dicionários\n",
    "\n",
    "# Definindo as \"colunas\" como listas\n",
    "nomes = ['Ana', 'Bruno', 'Carlos', 'Daniela', 'Eduardo', 'Fernanda', 'Gabriel', 'Helena', 'Igor', 'Julia']\n",
    "idades = [23, 31, 27, 19, 35, 29, 40, 22, 24, 28]\n",
    "cidades = ['SP', 'RJ', 'MG', 'SP', 'BA', 'PR', 'RS', 'PE', 'CE', 'DF']\n",
    "\n",
    "# Criando uma lista de dicionários, cada um representando um registro\n",
    "dataframe = []\n",
    "for i in range(10):\n",
    "    registro = {\n",
    "        'Nome': nomes[i],\n",
    "        'Idade': idades[i],\n",
    "        'Cidade': cidades[i]\n",
    "    }\n",
    "    dataframe.append(registro)\n",
    "\n",
    "# Exibindo o \"DataFrame\"\n",
    "for linha in dataframe:\n",
    "    print(linha)\n"
   ]
  }
 ],
 "metadata": {
  "kernelspec": {
   "display_name": "Python 3",
   "language": "python",
   "name": "python3"
  },
  "language_info": {
   "codemirror_mode": {
    "name": "ipython",
    "version": 3
   },
   "file_extension": ".py",
   "mimetype": "text/x-python",
   "name": "python",
   "nbconvert_exporter": "python",
   "pygments_lexer": "ipython3",
   "version": "3.13.3"
  }
 },
 "nbformat": 4,
 "nbformat_minor": 5
}
